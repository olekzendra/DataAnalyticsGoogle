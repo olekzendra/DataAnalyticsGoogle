{
  "metadata": {
    "language_info": {
      "codemirror_mode": {
        "name": "python",
        "version": 3
      },
      "file_extension": ".py",
      "mimetype": "text/x-python",
      "name": "python",
      "nbconvert_exporter": "python",
      "pygments_lexer": "ipython3",
      "version": "3.8"
    },
    "kernelspec": {
      "name": "python",
      "display_name": "Python (Pyodide)",
      "language": "python"
    }
  },
  "nbformat_minor": 4,
  "nbformat": 4,
  "cells": [
    {
      "cell_type": "markdown",
      "source": "**Data Description**\n\n*there are two tables:*\n\n2022_accidents_vehicles - List of vehicles involved in accidents handled by the police in the city of Barcelona . \nAn accident may be associated with more than one vehicle. Including whether the cause is pedestrian , vehicle type , model , brand, color and license type and age of the person who was driving. I consider this table should contain full list of accidents\n\n2022_accidents_cause_driver - Accidents by driver cause managed by the Guàrdia Urbana in the city of Barcelona. It will be used to define a reason for an accident\n\n",
      "metadata": {}
    },
    {
      "cell_type": "code",
      "source": "import sqlite3\nimport pandas as pd\n",
      "metadata": {
        "trusted": true
      },
      "execution_count": 1,
      "outputs": []
    },
    {
      "cell_type": "code",
      "source": "conn = sqlite3.connect(':memory:')\n",
      "metadata": {
        "trusted": true
      },
      "execution_count": 2,
      "outputs": []
    },
    {
      "cell_type": "code",
      "source": "# Loading data into a pandas DataFrame for 2022_accidents_vehicles\nfile_path = \"2022_accidents_vehicles_gu_bcn.csv\"\ndf = pd.read_csv(file_path)\n\n# Create a table in the SQLite database\ndf.to_sql('2022_accidents_vehicles', conn, if_exists='replace', index=False)\n\n",
      "metadata": {
        "trusted": true
      },
      "execution_count": 8,
      "outputs": [
        {
          "execution_count": 8,
          "output_type": "execute_result",
          "data": {
            "text/plain": "14906"
          },
          "metadata": {}
        }
      ]
    },
    {
      "cell_type": "code",
      "source": "\n# Loading data into a pandas DataFrame for 2022_accidents_cause_driver\nfile_path = \"2022_accidents_causa_conductor_gu_bcn_.csv\"\ndf = pd.read_csv(file_path)\n\n# Create a table in the SQLite database\ndf.to_sql('2022_accidents_cause_driver', conn, if_exists='replace', index=False)\n",
      "metadata": {
        "trusted": true
      },
      "execution_count": 9,
      "outputs": [
        {
          "execution_count": 9,
          "output_type": "execute_result",
          "data": {
            "text/plain": "9320"
          },
          "metadata": {}
        }
      ]
    },
    {
      "cell_type": "markdown",
      "source": "**validate number of unique cases in 2022_accidents_cause_driver**",
      "metadata": {}
    },
    {
      "cell_type": "code",
      "source": "import pandas as pd\nimport sqlite3\n\n# Assuming you have an SQLite connection named `conn`\n# I will have to use this query to be able to present query results using Jupiter\nquery = \"\"\"\nSELECT \n  COUNT(DISTINCT Numero_expedient) AS dist_case,\n  COUNT(Numero_expedient) AS total_vehicles\nFROM \"2022_accidents_vehicles\";\n\"\"\"\n\nresult = pd.read_sql_query(query, conn)\nresult.head()\n\n",
      "metadata": {
        "trusted": true
      },
      "execution_count": 13,
      "outputs": [
        {
          "execution_count": 13,
          "output_type": "execute_result",
          "data": {
            "text/plain": "   dist_case  total_vehicles\n0       7984           14901",
            "text/html": "<div>\n<style scoped>\n    .dataframe tbody tr th:only-of-type {\n        vertical-align: middle;\n    }\n\n    .dataframe tbody tr th {\n        vertical-align: top;\n    }\n\n    .dataframe thead th {\n        text-align: right;\n    }\n</style>\n<table border=\"1\" class=\"dataframe\">\n  <thead>\n    <tr style=\"text-align: right;\">\n      <th></th>\n      <th>dist_case</th>\n      <th>total_vehicles</th>\n    </tr>\n  </thead>\n  <tbody>\n    <tr>\n      <th>0</th>\n      <td>7984</td>\n      <td>14901</td>\n    </tr>\n  </tbody>\n</table>\n</div>"
          },
          "metadata": {}
        }
      ]
    },
    {
      "cell_type": "markdown",
      "source": "**validate number of unique cases in 2022_accidents_cause_driver**\n",
      "metadata": {}
    },
    {
      "cell_type": "code",
      "source": "query = \"\"\"\nSELECT \n  COUNT (DISTINCT Numero_expedient) AS dist_case,\n  COUNT(Numero_expedient)  AS total_vehicles\n\nFROM \"2022_accidents_cause_driver\";\n\"\"\"\n\nresult = pd.read_sql_query(query, conn)\nresult.head()",
      "metadata": {
        "trusted": true
      },
      "execution_count": 14,
      "outputs": [
        {
          "execution_count": 14,
          "output_type": "execute_result",
          "data": {
            "text/plain": "   dist_case  total_vehicles\n0       7989            9320",
            "text/html": "<div>\n<style scoped>\n    .dataframe tbody tr th:only-of-type {\n        vertical-align: middle;\n    }\n\n    .dataframe tbody tr th {\n        vertical-align: top;\n    }\n\n    .dataframe thead th {\n        text-align: right;\n    }\n</style>\n<table border=\"1\" class=\"dataframe\">\n  <thead>\n    <tr style=\"text-align: right;\">\n      <th></th>\n      <th>dist_case</th>\n      <th>total_vehicles</th>\n    </tr>\n  </thead>\n  <tbody>\n    <tr>\n      <th>0</th>\n      <td>7989</td>\n      <td>9320</td>\n    </tr>\n  </tbody>\n</table>\n</div>"
          },
          "metadata": {}
        }
      ]
    },
    {
      "cell_type": "markdown",
      "source": "**validate what are the examples where there is more then one reason for the case**\n",
      "metadata": {}
    },
    {
      "cell_type": "code",
      "source": "query = \"\"\"\nSELECT Numero_expedient, Descripcio_causa_mediata  FROM\n(SELECT *,\n   Numero_expedient, \n   Descripcio_causa_mediata,\n   COUNT(1) OVER(PARTITION BY Numero_expedient) as cnt\n  \nFROM \"2022_accidents_cause_driver\")\nWHERE cnt > 1\nLIMIT 4\n\"\"\"\n\nresult = pd.read_sql_query(query, conn)\nresult.head()",
      "metadata": {
        "trusted": true
      },
      "execution_count": 19,
      "outputs": [
        {
          "execution_count": 19,
          "output_type": "execute_result",
          "data": {
            "text/plain": "  Numero_expedient        Descripcio_causa_mediata\n0  2022S000006      Manca d'atenció a la conducció\n1  2022S000006             No respectar distàncies\n2  2022S000014      Manca d'atenció a la conducció\n3  2022S000014                              Altres",
            "text/html": "<div>\n<style scoped>\n    .dataframe tbody tr th:only-of-type {\n        vertical-align: middle;\n    }\n\n    .dataframe tbody tr th {\n        vertical-align: top;\n    }\n\n    .dataframe thead th {\n        text-align: right;\n    }\n</style>\n<table border=\"1\" class=\"dataframe\">\n  <thead>\n    <tr style=\"text-align: right;\">\n      <th></th>\n      <th>Numero_expedient</th>\n      <th>Descripcio_causa_mediata</th>\n    </tr>\n  </thead>\n  <tbody>\n    <tr>\n      <th>0</th>\n      <td>2022S000006</td>\n      <td>Manca d'atenció a la conducció</td>\n    </tr>\n    <tr>\n      <th>1</th>\n      <td>2022S000006</td>\n      <td>No respectar distàncies</td>\n    </tr>\n    <tr>\n      <th>2</th>\n      <td>2022S000014</td>\n      <td>Manca d'atenció a la conducció</td>\n    </tr>\n    <tr>\n      <th>3</th>\n      <td>2022S000014</td>\n      <td>Altres</td>\n    </tr>\n  </tbody>\n</table>\n</div>"
          },
          "metadata": {}
        }
      ]
    },
    {
      "cell_type": "markdown",
      "source": "*I can see from here that sometimes there is more than one cause (up to 4 causes per case is defined)*",
      "metadata": {}
    },
    {
      "cell_type": "code",
      "source": "query = \"\"\"\n\n\nSELECT COUNT (distinct Numero_expedient) FROM\n(SELECT *,\n  Numero_expedient, \n  Descripcio_causa_mediata,\n  COUNT(1) OVER(PARTITION BY Numero_expedient) as cnt\n  \nFROM \"2022_accidents_cause_driver\")\nWHERE cnt > 1 \n\n\"\"\"\n\nresult = pd.read_sql_query(query, conn)\nresult.head()",
      "metadata": {
        "trusted": true
      },
      "execution_count": 21,
      "outputs": [
        {
          "execution_count": 21,
          "output_type": "execute_result",
          "data": {
            "text/plain": "   COUNT (distinct Numero_expedient)\n0                               1238",
            "text/html": "<div>\n<style scoped>\n    .dataframe tbody tr th:only-of-type {\n        vertical-align: middle;\n    }\n\n    .dataframe tbody tr th {\n        vertical-align: top;\n    }\n\n    .dataframe thead th {\n        text-align: right;\n    }\n</style>\n<table border=\"1\" class=\"dataframe\">\n  <thead>\n    <tr style=\"text-align: right;\">\n      <th></th>\n      <th>COUNT (distinct Numero_expedient)</th>\n    </tr>\n  </thead>\n  <tbody>\n    <tr>\n      <th>0</th>\n      <td>1238</td>\n    </tr>\n  </tbody>\n</table>\n</div>"
          },
          "metadata": {}
        }
      ]
    },
    {
      "cell_type": "markdown",
      "source": "*1238 cases when there are multiple causes while total number of cases is 7206, which is 17% from total number of cases, it means we can't neglect this information.But going forward we will use first occurance reason for the research .*",
      "metadata": {}
    },
    {
      "cell_type": "markdown",
      "source": "**Now I check if all cases presented in vehicle table are also available in full list of cases**",
      "metadata": {}
    },
    {
      "cell_type": "code",
      "source": "query = \"\"\"\n\nSELECT * \nFROM \"2022_accidents_vehicles\"\nWHERE NOT Exists (select 1\n                    FROM \"2022_accidents_cause_driver\"\n                    WHERE \"2022_accidents_cause_driver\".Numero_expedient= \"2022_accidents_vehicles\".Numero_expedient);\n \n\"\"\"\n\nresult = pd.read_sql_query(query, conn)\nresult.head()",
      "metadata": {
        "trusted": true
      },
      "execution_count": 25,
      "outputs": [
        {
          "execution_count": 25,
          "output_type": "execute_result",
          "data": {
            "text/plain": "  Numero_expedient  Codi_districte        Nom_districte  Codi_barri  \\\n0             None               1         Ciutat Vella           4   \n1             None               3       Sants-Montjuïc          16   \n2             None               5  Sarrià-Sant Gervasi          26   \n3             None               7       Horta-Guinardó          35   \n4             None               9          Sant Andreu          58   \n\n                               Nom_barri  Codi_carrer  \\\n0  Sant Pere, Santa Caterina i la Ribera       163504   \n1                             la Bordeta        30602   \n2                 Sant Gervasi - Galvany       344101   \n3                            el Guinardó       194406   \n4                          Baró de Viver       314100   \n\n                                          Nom_carrer Num_postal  \\\n0  Isabel II / Correus                           ...  0002 0002   \n1                                               None  0081 0111   \n2  Gràcia                                        ...  0085 0085   \n3  Maragall / Pinar del Río                      ...  0167 0169   \n4  Santa Coloma                                  ...  0114 0114   \n\n  Descripcio_dia_setmana  NK_Any  ...  Descripcio_tipus_vehicle  \\\n0                Dilluns    2022  ...                      None   \n1                Dilluns    2022  ...                      None   \n2              Divendres    2022  ...                      None   \n3               Dissabte    2022  ...                      None   \n4                Dilluns    2022  ...                      None   \n\n  Descripcio_model  Descripcio_marca  Descripcio_color Descripcio_carnet  \\\n0             None              None              None              None   \n1             None              None              None              None   \n2             None              None              None              None   \n3             None              None              None              None   \n4             None              None              None              None   \n\n  Antiguitat_carnet Coordenada_UTM_X_ED50 Coordenada_UTM_Y_ED50  Longitud  \\\n0              None             431713.95            4581617.07  2.182206   \n1              None             427554.79            4580367.12  2.132619   \n2              None             429147.62            4583418.77  2.151306   \n3              None             431457.60            4586212.43  2.178619   \n4              None             433320.41            4589051.71  2.200596   \n\n     Latitud  \n0  41.381336  \n1  41.369714  \n2  41.397341  \n3  41.422703  \n4  41.448433  \n\n[5 rows x 26 columns]",
            "text/html": "<div>\n<style scoped>\n    .dataframe tbody tr th:only-of-type {\n        vertical-align: middle;\n    }\n\n    .dataframe tbody tr th {\n        vertical-align: top;\n    }\n\n    .dataframe thead th {\n        text-align: right;\n    }\n</style>\n<table border=\"1\" class=\"dataframe\">\n  <thead>\n    <tr style=\"text-align: right;\">\n      <th></th>\n      <th>Numero_expedient</th>\n      <th>Codi_districte</th>\n      <th>Nom_districte</th>\n      <th>Codi_barri</th>\n      <th>Nom_barri</th>\n      <th>Codi_carrer</th>\n      <th>Nom_carrer</th>\n      <th>Num_postal</th>\n      <th>Descripcio_dia_setmana</th>\n      <th>NK_Any</th>\n      <th>...</th>\n      <th>Descripcio_tipus_vehicle</th>\n      <th>Descripcio_model</th>\n      <th>Descripcio_marca</th>\n      <th>Descripcio_color</th>\n      <th>Descripcio_carnet</th>\n      <th>Antiguitat_carnet</th>\n      <th>Coordenada_UTM_X_ED50</th>\n      <th>Coordenada_UTM_Y_ED50</th>\n      <th>Longitud</th>\n      <th>Latitud</th>\n    </tr>\n  </thead>\n  <tbody>\n    <tr>\n      <th>0</th>\n      <td>None</td>\n      <td>1</td>\n      <td>Ciutat Vella</td>\n      <td>4</td>\n      <td>Sant Pere, Santa Caterina i la Ribera</td>\n      <td>163504</td>\n      <td>Isabel II / Correus                           ...</td>\n      <td>0002 0002</td>\n      <td>Dilluns</td>\n      <td>2022</td>\n      <td>...</td>\n      <td>None</td>\n      <td>None</td>\n      <td>None</td>\n      <td>None</td>\n      <td>None</td>\n      <td>None</td>\n      <td>431713.95</td>\n      <td>4581617.07</td>\n      <td>2.182206</td>\n      <td>41.381336</td>\n    </tr>\n    <tr>\n      <th>1</th>\n      <td>None</td>\n      <td>3</td>\n      <td>Sants-Montjuïc</td>\n      <td>16</td>\n      <td>la Bordeta</td>\n      <td>30602</td>\n      <td>None</td>\n      <td>0081 0111</td>\n      <td>Dilluns</td>\n      <td>2022</td>\n      <td>...</td>\n      <td>None</td>\n      <td>None</td>\n      <td>None</td>\n      <td>None</td>\n      <td>None</td>\n      <td>None</td>\n      <td>427554.79</td>\n      <td>4580367.12</td>\n      <td>2.132619</td>\n      <td>41.369714</td>\n    </tr>\n    <tr>\n      <th>2</th>\n      <td>None</td>\n      <td>5</td>\n      <td>Sarrià-Sant Gervasi</td>\n      <td>26</td>\n      <td>Sant Gervasi - Galvany</td>\n      <td>344101</td>\n      <td>Gràcia                                        ...</td>\n      <td>0085 0085</td>\n      <td>Divendres</td>\n      <td>2022</td>\n      <td>...</td>\n      <td>None</td>\n      <td>None</td>\n      <td>None</td>\n      <td>None</td>\n      <td>None</td>\n      <td>None</td>\n      <td>429147.62</td>\n      <td>4583418.77</td>\n      <td>2.151306</td>\n      <td>41.397341</td>\n    </tr>\n    <tr>\n      <th>3</th>\n      <td>None</td>\n      <td>7</td>\n      <td>Horta-Guinardó</td>\n      <td>35</td>\n      <td>el Guinardó</td>\n      <td>194406</td>\n      <td>Maragall / Pinar del Río                      ...</td>\n      <td>0167 0169</td>\n      <td>Dissabte</td>\n      <td>2022</td>\n      <td>...</td>\n      <td>None</td>\n      <td>None</td>\n      <td>None</td>\n      <td>None</td>\n      <td>None</td>\n      <td>None</td>\n      <td>431457.60</td>\n      <td>4586212.43</td>\n      <td>2.178619</td>\n      <td>41.422703</td>\n    </tr>\n    <tr>\n      <th>4</th>\n      <td>None</td>\n      <td>9</td>\n      <td>Sant Andreu</td>\n      <td>58</td>\n      <td>Baró de Viver</td>\n      <td>314100</td>\n      <td>Santa Coloma                                  ...</td>\n      <td>0114 0114</td>\n      <td>Dilluns</td>\n      <td>2022</td>\n      <td>...</td>\n      <td>None</td>\n      <td>None</td>\n      <td>None</td>\n      <td>None</td>\n      <td>None</td>\n      <td>None</td>\n      <td>433320.41</td>\n      <td>4589051.71</td>\n      <td>2.200596</td>\n      <td>41.448433</td>\n    </tr>\n  </tbody>\n</table>\n<p>5 rows × 26 columns</p>\n</div>"
          },
          "metadata": {}
        }
      ]
    },
    {
      "cell_type": "markdown",
      "source": "*as a result I can see a few records with NULL case number, I will remove them, but before removing. I will create a back up copy of all tables*\n",
      "metadata": {}
    },
    {
      "cell_type": "code",
      "source": "query = \"\"\"\nCREATE TABLE \"as_is_2022_accidents_vehicles\" AS\nSELECT * FROM \"2022_accidents_vehicles\";\n\"\"\"\n\nconn.execute(query)\n",
      "metadata": {
        "trusted": true
      },
      "execution_count": 27,
      "outputs": [
        {
          "execution_count": 27,
          "output_type": "execute_result",
          "data": {
            "text/plain": "<sqlite3.Cursor at 0x63ae0e8>"
          },
          "metadata": {}
        }
      ]
    },
    {
      "cell_type": "markdown",
      "source": "*copy of the vehicle table is created*\n\n**Now I will check number of records before deleting records (it is 5 records I am planning to delete . total there are 14906 records , it means after deletion my number of records will be 14901)**\n",
      "metadata": {}
    },
    {
      "cell_type": "code",
      "source": "query = \"\"\"\n\n \nSELECT * \nFROM \"2022_accidents_vehicles\"\nWHERE NOT Exists (select 1\n                    FROM \"2022_accidents_cause_driver\"\n                    WHERE \"2022_accidents_cause_driver\".Numero_expedient= \"2022_accidents_vehicles\".Numero_expedient);\n\n \n \n \n\"\"\"\n\nresult = pd.read_sql_query(query, conn)\nresult.head()",
      "metadata": {
        "trusted": true
      },
      "execution_count": 28,
      "outputs": [
        {
          "execution_count": 28,
          "output_type": "execute_result",
          "data": {
            "text/plain": "  Numero_expedient  Codi_districte        Nom_districte  Codi_barri  \\\n0             None               1         Ciutat Vella           4   \n1             None               3       Sants-Montjuïc          16   \n2             None               5  Sarrià-Sant Gervasi          26   \n3             None               7       Horta-Guinardó          35   \n4             None               9          Sant Andreu          58   \n\n                               Nom_barri  Codi_carrer  \\\n0  Sant Pere, Santa Caterina i la Ribera       163504   \n1                             la Bordeta        30602   \n2                 Sant Gervasi - Galvany       344101   \n3                            el Guinardó       194406   \n4                          Baró de Viver       314100   \n\n                                          Nom_carrer Num_postal  \\\n0  Isabel II / Correus                           ...  0002 0002   \n1                                               None  0081 0111   \n2  Gràcia                                        ...  0085 0085   \n3  Maragall / Pinar del Río                      ...  0167 0169   \n4  Santa Coloma                                  ...  0114 0114   \n\n  Descripcio_dia_setmana  NK_Any  ...  Descripcio_tipus_vehicle  \\\n0                Dilluns    2022  ...                      None   \n1                Dilluns    2022  ...                      None   \n2              Divendres    2022  ...                      None   \n3               Dissabte    2022  ...                      None   \n4                Dilluns    2022  ...                      None   \n\n  Descripcio_model  Descripcio_marca  Descripcio_color Descripcio_carnet  \\\n0             None              None              None              None   \n1             None              None              None              None   \n2             None              None              None              None   \n3             None              None              None              None   \n4             None              None              None              None   \n\n  Antiguitat_carnet Coordenada_UTM_X_ED50 Coordenada_UTM_Y_ED50  Longitud  \\\n0              None             431713.95            4581617.07  2.182206   \n1              None             427554.79            4580367.12  2.132619   \n2              None             429147.62            4583418.77  2.151306   \n3              None             431457.60            4586212.43  2.178619   \n4              None             433320.41            4589051.71  2.200596   \n\n     Latitud  \n0  41.381336  \n1  41.369714  \n2  41.397341  \n3  41.422703  \n4  41.448433  \n\n[5 rows x 26 columns]",
            "text/html": "<div>\n<style scoped>\n    .dataframe tbody tr th:only-of-type {\n        vertical-align: middle;\n    }\n\n    .dataframe tbody tr th {\n        vertical-align: top;\n    }\n\n    .dataframe thead th {\n        text-align: right;\n    }\n</style>\n<table border=\"1\" class=\"dataframe\">\n  <thead>\n    <tr style=\"text-align: right;\">\n      <th></th>\n      <th>Numero_expedient</th>\n      <th>Codi_districte</th>\n      <th>Nom_districte</th>\n      <th>Codi_barri</th>\n      <th>Nom_barri</th>\n      <th>Codi_carrer</th>\n      <th>Nom_carrer</th>\n      <th>Num_postal</th>\n      <th>Descripcio_dia_setmana</th>\n      <th>NK_Any</th>\n      <th>...</th>\n      <th>Descripcio_tipus_vehicle</th>\n      <th>Descripcio_model</th>\n      <th>Descripcio_marca</th>\n      <th>Descripcio_color</th>\n      <th>Descripcio_carnet</th>\n      <th>Antiguitat_carnet</th>\n      <th>Coordenada_UTM_X_ED50</th>\n      <th>Coordenada_UTM_Y_ED50</th>\n      <th>Longitud</th>\n      <th>Latitud</th>\n    </tr>\n  </thead>\n  <tbody>\n    <tr>\n      <th>0</th>\n      <td>None</td>\n      <td>1</td>\n      <td>Ciutat Vella</td>\n      <td>4</td>\n      <td>Sant Pere, Santa Caterina i la Ribera</td>\n      <td>163504</td>\n      <td>Isabel II / Correus                           ...</td>\n      <td>0002 0002</td>\n      <td>Dilluns</td>\n      <td>2022</td>\n      <td>...</td>\n      <td>None</td>\n      <td>None</td>\n      <td>None</td>\n      <td>None</td>\n      <td>None</td>\n      <td>None</td>\n      <td>431713.95</td>\n      <td>4581617.07</td>\n      <td>2.182206</td>\n      <td>41.381336</td>\n    </tr>\n    <tr>\n      <th>1</th>\n      <td>None</td>\n      <td>3</td>\n      <td>Sants-Montjuïc</td>\n      <td>16</td>\n      <td>la Bordeta</td>\n      <td>30602</td>\n      <td>None</td>\n      <td>0081 0111</td>\n      <td>Dilluns</td>\n      <td>2022</td>\n      <td>...</td>\n      <td>None</td>\n      <td>None</td>\n      <td>None</td>\n      <td>None</td>\n      <td>None</td>\n      <td>None</td>\n      <td>427554.79</td>\n      <td>4580367.12</td>\n      <td>2.132619</td>\n      <td>41.369714</td>\n    </tr>\n    <tr>\n      <th>2</th>\n      <td>None</td>\n      <td>5</td>\n      <td>Sarrià-Sant Gervasi</td>\n      <td>26</td>\n      <td>Sant Gervasi - Galvany</td>\n      <td>344101</td>\n      <td>Gràcia                                        ...</td>\n      <td>0085 0085</td>\n      <td>Divendres</td>\n      <td>2022</td>\n      <td>...</td>\n      <td>None</td>\n      <td>None</td>\n      <td>None</td>\n      <td>None</td>\n      <td>None</td>\n      <td>None</td>\n      <td>429147.62</td>\n      <td>4583418.77</td>\n      <td>2.151306</td>\n      <td>41.397341</td>\n    </tr>\n    <tr>\n      <th>3</th>\n      <td>None</td>\n      <td>7</td>\n      <td>Horta-Guinardó</td>\n      <td>35</td>\n      <td>el Guinardó</td>\n      <td>194406</td>\n      <td>Maragall / Pinar del Río                      ...</td>\n      <td>0167 0169</td>\n      <td>Dissabte</td>\n      <td>2022</td>\n      <td>...</td>\n      <td>None</td>\n      <td>None</td>\n      <td>None</td>\n      <td>None</td>\n      <td>None</td>\n      <td>None</td>\n      <td>431457.60</td>\n      <td>4586212.43</td>\n      <td>2.178619</td>\n      <td>41.422703</td>\n    </tr>\n    <tr>\n      <th>4</th>\n      <td>None</td>\n      <td>9</td>\n      <td>Sant Andreu</td>\n      <td>58</td>\n      <td>Baró de Viver</td>\n      <td>314100</td>\n      <td>Santa Coloma                                  ...</td>\n      <td>0114 0114</td>\n      <td>Dilluns</td>\n      <td>2022</td>\n      <td>...</td>\n      <td>None</td>\n      <td>None</td>\n      <td>None</td>\n      <td>None</td>\n      <td>None</td>\n      <td>None</td>\n      <td>433320.41</td>\n      <td>4589051.71</td>\n      <td>2.200596</td>\n      <td>41.448433</td>\n    </tr>\n  </tbody>\n</table>\n<p>5 rows × 26 columns</p>\n</div>"
          },
          "metadata": {}
        }
      ]
    },
    {
      "cell_type": "markdown",
      "source": "**deleting records**\n",
      "metadata": {}
    },
    {
      "cell_type": "code",
      "source": "query = \"\"\"\nDELETE \nFROM \"as_is_2022_accidents_vehicles\"\nWHERE Numero_expedient IN (\n    SELECT Numero_expedient\n    FROM \"as_is_2022_accidents_vehicles\"\n    GROUP BY Numero_expedient\n    HAVING COUNT(*) > 1\n);\n\"\"\"\n\ncursor = conn.cursor()\ncursor.execute(query)\nconn.commit()\n",
      "metadata": {
        "trusted": true
      },
      "execution_count": 30,
      "outputs": []
    },
    {
      "cell_type": "markdown",
      "source": "**Entire table is on Catalan language, I will update all column namew with clear definition in English**\n",
      "metadata": {}
    },
    {
      "cell_type": "code",
      "source": "columns_to_rename = [\n    ('Numero_expedient', 'case_number'),\n    ('Codi_districte', 'district_code'),\n    ('Nom_districte', 'district_name'),\n    ('Codi_barri', 'neighborhood_code'),\n    ('Nom_barri', 'neighborhood_name'),\n    ('Codi_carrer', 'street_code'),\n    ('Nom_carrer', 'street_name'),\n    ('Num_postal', 'postal_code'),\n    ('Descripcio_dia_setmana', 'weekday'),\n    ('NK_Any', 'year'),\n    ('Mes_any', 'month_number'),\n    ('Dia_mes', 'day_number'),\n    ('Hora_dia', 'hour'),\n    ('Descripcio_torn', 'part_of_the_day'),\n    ('Descripcio_causa_vianant', 'pedestrian_cause_description'),\n    ('Descripcio_tipus_vehicle', 'vehicle_type'),\n    ('Descripcio_carnet', 'license_type'),\n    ('Antiguitat_carnet', 'license_age')\n]\n\ncursor = conn.cursor()\n\nfor old_col, new_col in columns_to_rename:\n    query = f'ALTER TABLE \"2022_accidents_vehicles\" RENAME COLUMN {old_col} TO {new_col};'\n    cursor.execute(query)\n\nconn.commit()\n",
      "metadata": {
        "trusted": true
      },
      "execution_count": 32,
      "outputs": []
    },
    {
      "cell_type": "markdown",
      "source": "**validate if the result as expected**\n",
      "metadata": {}
    },
    {
      "cell_type": "code",
      "source": "query = \"\"\"\n\n SELECT *\nFROM \"2022_accidents_vehicles\"\nLIMIT 3\n \n\"\"\"\n\nresult = pd.read_sql_query(query, conn)\nresult.head()",
      "metadata": {
        "trusted": true
      },
      "execution_count": 35,
      "outputs": [
        {
          "execution_count": 35,
          "output_type": "execute_result",
          "data": {
            "text/plain": "       case_number  district_code district_name  neighborhood_code  \\\n0  2022S000792                 -1    Desconegut                 -1   \n1  2022S000792                 -1    Desconegut                 -1   \n2  2022S001565                 -1    Desconegut                 -1   \n\n  neighborhood_name  street_code  \\\n0        Desconegut           -1   \n1        Desconegut           -1   \n2        Desconegut           -1   \n\n                                         street_name postal_code weekday  \\\n0  Elisabeth Eidenbenz                           ...  8-24        Dijous   \n1  Elisabeth Eidenbenz                           ...        None  Dijous   \n2  Sant Cugat                                    ...  49-55       Dijous   \n\n   year  ...  vehicle_type   Descripcio_model  Descripcio_marca  \\\n0  2022  ...          Taxi  TOYOTA PRIUS PLUS            TOYOTA   \n1  2022  ...       Turisme            LEON ST              SEAT   \n2  2022  ...     Bicicleta         Desconegut        Desconegut   \n\n   Descripcio_color license_type license_age Coordenada_UTM_X_ED50  \\\n0        Negre/Groc            B          20             426794.73   \n1              Gris            B          23             426794.73   \n2             Negre            B          17             426417.43   \n\n  Coordenada_UTM_Y_ED50  Longitud    Latitud  \n0            4581925.76  2.123343  41.383684  \n1            4581925.76  2.123343  41.383684  \n2            4586500.99  2.118274  41.424856  \n\n[3 rows x 26 columns]",
            "text/html": "<div>\n<style scoped>\n    .dataframe tbody tr th:only-of-type {\n        vertical-align: middle;\n    }\n\n    .dataframe tbody tr th {\n        vertical-align: top;\n    }\n\n    .dataframe thead th {\n        text-align: right;\n    }\n</style>\n<table border=\"1\" class=\"dataframe\">\n  <thead>\n    <tr style=\"text-align: right;\">\n      <th></th>\n      <th>case_number</th>\n      <th>district_code</th>\n      <th>district_name</th>\n      <th>neighborhood_code</th>\n      <th>neighborhood_name</th>\n      <th>street_code</th>\n      <th>street_name</th>\n      <th>postal_code</th>\n      <th>weekday</th>\n      <th>year</th>\n      <th>...</th>\n      <th>vehicle_type</th>\n      <th>Descripcio_model</th>\n      <th>Descripcio_marca</th>\n      <th>Descripcio_color</th>\n      <th>license_type</th>\n      <th>license_age</th>\n      <th>Coordenada_UTM_X_ED50</th>\n      <th>Coordenada_UTM_Y_ED50</th>\n      <th>Longitud</th>\n      <th>Latitud</th>\n    </tr>\n  </thead>\n  <tbody>\n    <tr>\n      <th>0</th>\n      <td>2022S000792</td>\n      <td>-1</td>\n      <td>Desconegut</td>\n      <td>-1</td>\n      <td>Desconegut</td>\n      <td>-1</td>\n      <td>Elisabeth Eidenbenz                           ...</td>\n      <td>8-24</td>\n      <td>Dijous</td>\n      <td>2022</td>\n      <td>...</td>\n      <td>Taxi</td>\n      <td>TOYOTA PRIUS PLUS</td>\n      <td>TOYOTA</td>\n      <td>Negre/Groc</td>\n      <td>B</td>\n      <td>20</td>\n      <td>426794.73</td>\n      <td>4581925.76</td>\n      <td>2.123343</td>\n      <td>41.383684</td>\n    </tr>\n    <tr>\n      <th>1</th>\n      <td>2022S000792</td>\n      <td>-1</td>\n      <td>Desconegut</td>\n      <td>-1</td>\n      <td>Desconegut</td>\n      <td>-1</td>\n      <td>Elisabeth Eidenbenz                           ...</td>\n      <td>None</td>\n      <td>Dijous</td>\n      <td>2022</td>\n      <td>...</td>\n      <td>Turisme</td>\n      <td>LEON ST</td>\n      <td>SEAT</td>\n      <td>Gris</td>\n      <td>B</td>\n      <td>23</td>\n      <td>426794.73</td>\n      <td>4581925.76</td>\n      <td>2.123343</td>\n      <td>41.383684</td>\n    </tr>\n    <tr>\n      <th>2</th>\n      <td>2022S001565</td>\n      <td>-1</td>\n      <td>Desconegut</td>\n      <td>-1</td>\n      <td>Desconegut</td>\n      <td>-1</td>\n      <td>Sant Cugat                                    ...</td>\n      <td>49-55</td>\n      <td>Dijous</td>\n      <td>2022</td>\n      <td>...</td>\n      <td>Bicicleta</td>\n      <td>Desconegut</td>\n      <td>Desconegut</td>\n      <td>Negre</td>\n      <td>B</td>\n      <td>17</td>\n      <td>426417.43</td>\n      <td>4586500.99</td>\n      <td>2.118274</td>\n      <td>41.424856</td>\n    </tr>\n  </tbody>\n</table>\n<p>3 rows × 26 columns</p>\n</div>"
          },
          "metadata": {}
        }
      ]
    },
    {
      "cell_type": "markdown",
      "source": "**Update weekday names to english names**\n",
      "metadata": {}
    },
    {
      "cell_type": "code",
      "source": "query = \"\"\"\n\n \nUPDATE \"2022_accidents_vehicles\"\nSET `weekday` = \n    CASE \n        WHEN `weekday` = 'Dilluns' THEN 'Monday'\n        WHEN `weekday` = 'Dimarts' THEN 'Tuesday'\n        WHEN `weekday` = 'Dissabte' THEN 'Saturday'\n        WHEN `weekday` = 'Dimecres' THEN 'Wednesday'\n        WHEN `weekday` = 'Dijous' THEN 'Thursday'\n        WHEN `weekday` = 'Diumenge' THEN 'Sunday'\n        WHEN `weekday` = 'Divendres' THEN 'Friday'\n        ELSE `weekday`\n    END\n  WHERE weekday is not null;\n \n \n\"\"\"\ncursor = conn.cursor()\ncursor.execute(query)\nconn.commit()",
      "metadata": {
        "trusted": true
      },
      "execution_count": 37,
      "outputs": []
    },
    {
      "cell_type": "markdown",
      "source": "*I make validation of original table as is vs new table to ensure my weekday update correctly performed ! yes it looks great*",
      "metadata": {}
    },
    {
      "cell_type": "code",
      "source": "query = \"\"\"\n\n \nSELECT\n   DISTINCT   table1.first_occurrence_number,   table2.first_occurrence_number\nFROM (\n  SELECT\n    case_number as id,\n    MIN(weekday) AS first_occurrence_number\n  FROM\n    \"2022_accidents_vehicles\"\n  GROUP BY\n    id\n) AS table1\nJOIN (\n  SELECT\n    Numero_expedient as id,\n    MIN(Descripcio_dia_setmana) AS first_occurrence_number\n  FROM\n    \"as_is_2022_accidents_vehicles\"\n  GROUP BY\n    id\n) AS table2\nON\n  table1.id = table2.id\n \n \n \n\"\"\"\n\nresult = pd.read_sql_query(query, conn)\nresult.head()",
      "metadata": {
        "trusted": true
      },
      "execution_count": 38,
      "outputs": [
        {
          "execution_count": 38,
          "output_type": "execute_result",
          "data": {
            "text/plain": "  first_occurrence_number first_occurrence_number\n0                  Sunday                Diumenge\n1                  Monday                 Dilluns\n2                 Tuesday                 Dimarts\n3               Wednesday                Dimecres\n4                Thursday                  Dijous",
            "text/html": "<div>\n<style scoped>\n    .dataframe tbody tr th:only-of-type {\n        vertical-align: middle;\n    }\n\n    .dataframe tbody tr th {\n        vertical-align: top;\n    }\n\n    .dataframe thead th {\n        text-align: right;\n    }\n</style>\n<table border=\"1\" class=\"dataframe\">\n  <thead>\n    <tr style=\"text-align: right;\">\n      <th></th>\n      <th>first_occurrence_number</th>\n      <th>first_occurrence_number</th>\n    </tr>\n  </thead>\n  <tbody>\n    <tr>\n      <th>0</th>\n      <td>Sunday</td>\n      <td>Diumenge</td>\n    </tr>\n    <tr>\n      <th>1</th>\n      <td>Monday</td>\n      <td>Dilluns</td>\n    </tr>\n    <tr>\n      <th>2</th>\n      <td>Tuesday</td>\n      <td>Dimarts</td>\n    </tr>\n    <tr>\n      <th>3</th>\n      <td>Wednesday</td>\n      <td>Dimecres</td>\n    </tr>\n    <tr>\n      <th>4</th>\n      <td>Thursday</td>\n      <td>Dijous</td>\n    </tr>\n  </tbody>\n</table>\n</div>"
          },
          "metadata": {}
        }
      ]
    },
    {
      "cell_type": "markdown",
      "source": "**Update the pedestrian_cause_description with english description**\n",
      "metadata": {}
    },
    {
      "cell_type": "code",
      "source": "query = \"\"\"\n\nUPDATE \"2022_accidents_vehicles\"\nSET `pedestrian_cause_description` = \n    CASE \n        WHEN `pedestrian_cause_description` = 'No és causa del  vianant' THEN 'It is not the cause of the pedestrian'\n        WHEN `pedestrian_cause_description` = 'Transitar a peu per la calçada' THEN 'Walk along the road'\n        WHEN `pedestrian_cause_description` = 'Altres' THEN 'Others'\n        WHEN `pedestrian_cause_description` = 'Creuar per fora pas de vianants' THEN 'Cross over the pedestrian crossing'\n        WHEN `pedestrian_cause_description` = 'Desobeir el senyal del semàfor' THEN 'Disobey the traffic light signal'\n        WHEN `pedestrian_cause_description` = 'Desobeir altres senyals' THEN 'Disobey the other signal'\n        ELSE `pedestrian_cause_description`\n    END\n  WHERE pedestrian_cause_description is not null;\n\n \n \n \n\"\"\"\ncursor = conn.cursor()\ncursor.execute(query)\nconn.commit()",
      "metadata": {
        "trusted": true
      },
      "execution_count": 41,
      "outputs": []
    },
    {
      "cell_type": "markdown",
      "source": " **Update english description of vehicle types**",
      "metadata": {}
    },
    {
      "cell_type": "code",
      "source": "query = \"\"\"\n\n UPDATE \"2022_accidents_vehicles\"\nSET `vehicle_type` = \n    CASE \n        WHEN `vehicle_type` = 'Tot terreny' THEN 'Off-road vehicle'\n        WHEN `vehicle_type` = 'Bicicleta' THEN 'Bicycle'\n        WHEN `vehicle_type` = 'Motocicleta' THEN 'motorcycle'\n        WHEN `vehicle_type` = 'Furgoneta' THEN 'Van'\n        WHEN `vehicle_type` = 'Tractor camió' THEN 'Tractor truck'\n        WHEN `vehicle_type` = 'Veh. mobilitat personal sense motor' THEN 'vehicle personal mobility without motor'\n        WHEN `vehicle_type` = 'Camió rígid > 3,5 tones' THEN 'Rigid truck > 3.5 tonnes'\n        WHEN `vehicle_type` = 'Veh. mobilitat personal amb motor' THEN 'vehicle personal mobility with motor'\n        WHEN `vehicle_type` = 'Ciclomotor' THEN 'moped'\n        WHEN `vehicle_type` = 'Camió rígid <= 3,5 tones' THEN 'Rigid truck <= 3.5 tons'\n        WHEN `vehicle_type` = 'Autobús' THEN 'bus'\n        WHEN `vehicle_type` = 'Autobús articulat' THEN 'Articulated bus'\n        WHEN `vehicle_type` = 'Desconegut' THEN 'Unknown'\n        WHEN `vehicle_type` = \"Maquinària d'obres i serveis\" THEN 'Construction machinery and services'\n        WHEN `vehicle_type` = 'Autocar' THEN 'long distance bus'\n        WHEN `vehicle_type` = 'Altres vehicles amb motor' THEN 'Other motor vehicles'\n        WHEN `vehicle_type` = 'Tren o tramvia' THEN 'Train or tram'\n        WHEN `vehicle_type` = 'Tricicle' THEN 'tricycle'\n        WHEN `vehicle_type` = 'Altres vehicles sense motor' THEN 'Other non-motorized vehicles'\n        ELSE `vehicle_type`\n    END\n  WHERE vehicle_type is not null;\n \n \n \n\"\"\"\n\ncursor = conn.cursor()\ncursor.execute(query)\nconn.commit()",
      "metadata": {
        "trusted": true
      },
      "execution_count": 42,
      "outputs": []
    },
    {
      "cell_type": "markdown",
      "source": "**Now I want to add a new column Descripcio_causa_mediata from another data set to know what is the reason for every case**",
      "metadata": {}
    },
    {
      "cell_type": "code",
      "source": "query = \"\"\"\nALTER TABLE \"2022_accidents_vehicles\"\nADD COLUMN descripcio_causa_mediata STRING;\n\"\"\"\n\ncursor = conn.cursor()\ncursor.execute(query)\nconn.commit()\n",
      "metadata": {
        "trusted": true
      },
      "execution_count": 45,
      "outputs": [
        {
          "ename": "<class 'sqlite3.OperationalError'>",
          "evalue": "duplicate column name: descripcio_causa_mediata",
          "traceback": [
            "\u001b[0;31m---------------------------------------------------------------------------\u001b[0m",
            "\u001b[0;31mOperationalError\u001b[0m                          Traceback (most recent call last)",
            "Cell \u001b[0;32mIn[45], line 7\u001b[0m\n\u001b[1;32m      1\u001b[0m query \u001b[38;5;241m=\u001b[39m \u001b[38;5;124m\"\"\"\u001b[39m\n\u001b[1;32m      2\u001b[0m \u001b[38;5;124mALTER TABLE \u001b[39m\u001b[38;5;124m\"\u001b[39m\u001b[38;5;124m2022_accidents_vehicles\u001b[39m\u001b[38;5;124m\"\u001b[39m\n\u001b[1;32m      3\u001b[0m \u001b[38;5;124mADD COLUMN descripcio_causa_mediata STRING;\u001b[39m\n\u001b[1;32m      4\u001b[0m \u001b[38;5;124m\"\"\"\u001b[39m\n\u001b[1;32m      6\u001b[0m cursor \u001b[38;5;241m=\u001b[39m conn\u001b[38;5;241m.\u001b[39mcursor()\n\u001b[0;32m----> 7\u001b[0m \u001b[43mcursor\u001b[49m\u001b[38;5;241;43m.\u001b[39;49m\u001b[43mexecute\u001b[49m\u001b[43m(\u001b[49m\u001b[43mquery\u001b[49m\u001b[43m)\u001b[49m\n\u001b[1;32m      8\u001b[0m conn\u001b[38;5;241m.\u001b[39mcommit()\n",
            "\u001b[0;31mOperationalError\u001b[0m: duplicate column name: descripcio_causa_mediata"
          ],
          "output_type": "error"
        }
      ]
    },
    {
      "cell_type": "markdown",
      "source": "*Valdate table structure, see, new column was added*",
      "metadata": {}
    },
    {
      "cell_type": "code",
      "source": "result = pd.read_sql_query('PRAGMA table_info(\"2022_accidents_vehicles\");', conn)\nresult\n",
      "metadata": {
        "trusted": true
      },
      "execution_count": 48,
      "outputs": [
        {
          "execution_count": 48,
          "output_type": "execute_result",
          "data": {
            "text/plain": "    cid                          name     type  notnull dflt_value  pk\n0     0                   case_number     TEXT        0       None   0\n1     1                 district_code  INTEGER        0       None   0\n2     2                 district_name     TEXT        0       None   0\n3     3             neighborhood_code  INTEGER        0       None   0\n4     4             neighborhood_name     TEXT        0       None   0\n5     5                   street_code  INTEGER        0       None   0\n6     6                   street_name     TEXT        0       None   0\n7     7                   postal_code     TEXT        0       None   0\n8     8                       weekday     TEXT        0       None   0\n9     9                          year  INTEGER        0       None   0\n10   10                  month_number  INTEGER        0       None   0\n11   11                       Nom_mes     TEXT        0       None   0\n12   12                    day_number  INTEGER        0       None   0\n13   13                          hour  INTEGER        0       None   0\n14   14               part_of_the_day     TEXT        0       None   0\n15   15  pedestrian_cause_description     TEXT        0       None   0\n16   16                  vehicle_type     TEXT        0       None   0\n17   17              Descripcio_model     TEXT        0       None   0\n18   18              Descripcio_marca     TEXT        0       None   0\n19   19              Descripcio_color     TEXT        0       None   0\n20   20                  license_type     TEXT        0       None   0\n21   21                   license_age     TEXT        0       None   0\n22   22         Coordenada_UTM_X_ED50     REAL        0       None   0\n23   23         Coordenada_UTM_Y_ED50     REAL        0       None   0\n24   24                      Longitud     REAL        0       None   0\n25   25                       Latitud     REAL        0       None   0\n26   26      descripcio_causa_mediata   STRING        0       None   0",
            "text/html": "<div>\n<style scoped>\n    .dataframe tbody tr th:only-of-type {\n        vertical-align: middle;\n    }\n\n    .dataframe tbody tr th {\n        vertical-align: top;\n    }\n\n    .dataframe thead th {\n        text-align: right;\n    }\n</style>\n<table border=\"1\" class=\"dataframe\">\n  <thead>\n    <tr style=\"text-align: right;\">\n      <th></th>\n      <th>cid</th>\n      <th>name</th>\n      <th>type</th>\n      <th>notnull</th>\n      <th>dflt_value</th>\n      <th>pk</th>\n    </tr>\n  </thead>\n  <tbody>\n    <tr>\n      <th>0</th>\n      <td>0</td>\n      <td>case_number</td>\n      <td>TEXT</td>\n      <td>0</td>\n      <td>None</td>\n      <td>0</td>\n    </tr>\n    <tr>\n      <th>1</th>\n      <td>1</td>\n      <td>district_code</td>\n      <td>INTEGER</td>\n      <td>0</td>\n      <td>None</td>\n      <td>0</td>\n    </tr>\n    <tr>\n      <th>2</th>\n      <td>2</td>\n      <td>district_name</td>\n      <td>TEXT</td>\n      <td>0</td>\n      <td>None</td>\n      <td>0</td>\n    </tr>\n    <tr>\n      <th>3</th>\n      <td>3</td>\n      <td>neighborhood_code</td>\n      <td>INTEGER</td>\n      <td>0</td>\n      <td>None</td>\n      <td>0</td>\n    </tr>\n    <tr>\n      <th>4</th>\n      <td>4</td>\n      <td>neighborhood_name</td>\n      <td>TEXT</td>\n      <td>0</td>\n      <td>None</td>\n      <td>0</td>\n    </tr>\n    <tr>\n      <th>5</th>\n      <td>5</td>\n      <td>street_code</td>\n      <td>INTEGER</td>\n      <td>0</td>\n      <td>None</td>\n      <td>0</td>\n    </tr>\n    <tr>\n      <th>6</th>\n      <td>6</td>\n      <td>street_name</td>\n      <td>TEXT</td>\n      <td>0</td>\n      <td>None</td>\n      <td>0</td>\n    </tr>\n    <tr>\n      <th>7</th>\n      <td>7</td>\n      <td>postal_code</td>\n      <td>TEXT</td>\n      <td>0</td>\n      <td>None</td>\n      <td>0</td>\n    </tr>\n    <tr>\n      <th>8</th>\n      <td>8</td>\n      <td>weekday</td>\n      <td>TEXT</td>\n      <td>0</td>\n      <td>None</td>\n      <td>0</td>\n    </tr>\n    <tr>\n      <th>9</th>\n      <td>9</td>\n      <td>year</td>\n      <td>INTEGER</td>\n      <td>0</td>\n      <td>None</td>\n      <td>0</td>\n    </tr>\n    <tr>\n      <th>10</th>\n      <td>10</td>\n      <td>month_number</td>\n      <td>INTEGER</td>\n      <td>0</td>\n      <td>None</td>\n      <td>0</td>\n    </tr>\n    <tr>\n      <th>11</th>\n      <td>11</td>\n      <td>Nom_mes</td>\n      <td>TEXT</td>\n      <td>0</td>\n      <td>None</td>\n      <td>0</td>\n    </tr>\n    <tr>\n      <th>12</th>\n      <td>12</td>\n      <td>day_number</td>\n      <td>INTEGER</td>\n      <td>0</td>\n      <td>None</td>\n      <td>0</td>\n    </tr>\n    <tr>\n      <th>13</th>\n      <td>13</td>\n      <td>hour</td>\n      <td>INTEGER</td>\n      <td>0</td>\n      <td>None</td>\n      <td>0</td>\n    </tr>\n    <tr>\n      <th>14</th>\n      <td>14</td>\n      <td>part_of_the_day</td>\n      <td>TEXT</td>\n      <td>0</td>\n      <td>None</td>\n      <td>0</td>\n    </tr>\n    <tr>\n      <th>15</th>\n      <td>15</td>\n      <td>pedestrian_cause_description</td>\n      <td>TEXT</td>\n      <td>0</td>\n      <td>None</td>\n      <td>0</td>\n    </tr>\n    <tr>\n      <th>16</th>\n      <td>16</td>\n      <td>vehicle_type</td>\n      <td>TEXT</td>\n      <td>0</td>\n      <td>None</td>\n      <td>0</td>\n    </tr>\n    <tr>\n      <th>17</th>\n      <td>17</td>\n      <td>Descripcio_model</td>\n      <td>TEXT</td>\n      <td>0</td>\n      <td>None</td>\n      <td>0</td>\n    </tr>\n    <tr>\n      <th>18</th>\n      <td>18</td>\n      <td>Descripcio_marca</td>\n      <td>TEXT</td>\n      <td>0</td>\n      <td>None</td>\n      <td>0</td>\n    </tr>\n    <tr>\n      <th>19</th>\n      <td>19</td>\n      <td>Descripcio_color</td>\n      <td>TEXT</td>\n      <td>0</td>\n      <td>None</td>\n      <td>0</td>\n    </tr>\n    <tr>\n      <th>20</th>\n      <td>20</td>\n      <td>license_type</td>\n      <td>TEXT</td>\n      <td>0</td>\n      <td>None</td>\n      <td>0</td>\n    </tr>\n    <tr>\n      <th>21</th>\n      <td>21</td>\n      <td>license_age</td>\n      <td>TEXT</td>\n      <td>0</td>\n      <td>None</td>\n      <td>0</td>\n    </tr>\n    <tr>\n      <th>22</th>\n      <td>22</td>\n      <td>Coordenada_UTM_X_ED50</td>\n      <td>REAL</td>\n      <td>0</td>\n      <td>None</td>\n      <td>0</td>\n    </tr>\n    <tr>\n      <th>23</th>\n      <td>23</td>\n      <td>Coordenada_UTM_Y_ED50</td>\n      <td>REAL</td>\n      <td>0</td>\n      <td>None</td>\n      <td>0</td>\n    </tr>\n    <tr>\n      <th>24</th>\n      <td>24</td>\n      <td>Longitud</td>\n      <td>REAL</td>\n      <td>0</td>\n      <td>None</td>\n      <td>0</td>\n    </tr>\n    <tr>\n      <th>25</th>\n      <td>25</td>\n      <td>Latitud</td>\n      <td>REAL</td>\n      <td>0</td>\n      <td>None</td>\n      <td>0</td>\n    </tr>\n    <tr>\n      <th>26</th>\n      <td>26</td>\n      <td>descripcio_causa_mediata</td>\n      <td>STRING</td>\n      <td>0</td>\n      <td>None</td>\n      <td>0</td>\n    </tr>\n  </tbody>\n</table>\n</div>"
          },
          "metadata": {}
        }
      ]
    },
    {
      "cell_type": "markdown",
      "source": "*Now I update new column based on first occurred record in full list of acidents. there are 15% cases when there is more than 1 reason, I only consider first occured! this is a valid assumption for our purpose*\n\n",
      "metadata": {}
    },
    {
      "cell_type": "code",
      "source": "query = \"\"\"\nUPDATE \"2022_accidents_vehicles\"\nSET Descripcio_causa_mediata = (\n  SELECT MIN(Descripcio_causa_mediata)\n  FROM \"2022_accidents_cause_driver\"\n  WHERE \"2022_accidents_vehicles\".case_number = \"2022_accidents_cause_driver\".Numero_expedient\n);\n\"\"\"\n\ncursor = conn.cursor()\ncursor.execute(query)\nconn.commit()\n",
      "metadata": {
        "trusted": true
      },
      "execution_count": 50,
      "outputs": []
    },
    {
      "cell_type": "markdown",
      "source": "*Now I check if table is succesfully updated*",
      "metadata": {}
    },
    {
      "cell_type": "code",
      "source": "query = \"\"\"\n\nSELECT * FROM \"2022_accidents_vehicles\" LIMIT 100\n  \n\"\"\"\n\nresult = pd.read_sql_query(query, conn)\nresult.head()",
      "metadata": {
        "trusted": true
      },
      "execution_count": 52,
      "outputs": [
        {
          "execution_count": 52,
          "output_type": "execute_result",
          "data": {
            "text/plain": "       case_number  district_code district_name  neighborhood_code  \\\n0  2022S000792                 -1    Desconegut                 -1   \n1  2022S000792                 -1    Desconegut                 -1   \n2  2022S001565                 -1    Desconegut                 -1   \n3  2022S001565                 -1    Desconegut                 -1   \n4  2022S001568                 -1    Desconegut                 -1   \n\n  neighborhood_name  street_code  \\\n0        Desconegut           -1   \n1        Desconegut           -1   \n2        Desconegut           -1   \n3        Desconegut           -1   \n4        Desconegut           -1   \n\n                                         street_name postal_code   weekday  \\\n0  Elisabeth Eidenbenz                           ...  8-24        Thursday   \n1  Elisabeth Eidenbenz                           ...        None  Thursday   \n2  Sant Cugat                                    ...  49-55       Thursday   \n3  Sant Cugat                                    ...        None  Thursday   \n4  Pallars                                       ...  279-285     Thursday   \n\n   year  ...   Descripcio_model Descripcio_marca  Descripcio_color  \\\n0  2022  ...  TOYOTA PRIUS PLUS           TOYOTA        Negre/Groc   \n1  2022  ...            LEON ST             SEAT              Gris   \n2  2022  ...         Desconegut       Desconegut             Negre   \n3  2022  ...         Desconegut       Desconegut           Vermell   \n4  2022  ...             JET 14              SYM              Blau   \n\n   license_type license_age Coordenada_UTM_X_ED50 Coordenada_UTM_Y_ED50  \\\n0             B          20             426794.73            4581925.76   \n1             B          23             426794.73            4581925.76   \n2             B          17             426417.43            4586500.99   \n3             A           2             426417.43            4586500.99   \n4             B          10             433391.56            4584170.99   \n\n   Longitud    Latitud                 descripcio_causa_mediata  \n0  2.123343  41.383684           Manca d'atenció a la conducció  \n1  2.123343  41.383684           Manca d'atenció a la conducció  \n2  2.118274  41.424856         Avançament defectuós/improcedent  \n3  2.118274  41.424856         Avançament defectuós/improcedent  \n4  2.201986  41.404479  Manca precaució incorporació circulació  \n\n[5 rows x 27 columns]",
            "text/html": "<div>\n<style scoped>\n    .dataframe tbody tr th:only-of-type {\n        vertical-align: middle;\n    }\n\n    .dataframe tbody tr th {\n        vertical-align: top;\n    }\n\n    .dataframe thead th {\n        text-align: right;\n    }\n</style>\n<table border=\"1\" class=\"dataframe\">\n  <thead>\n    <tr style=\"text-align: right;\">\n      <th></th>\n      <th>case_number</th>\n      <th>district_code</th>\n      <th>district_name</th>\n      <th>neighborhood_code</th>\n      <th>neighborhood_name</th>\n      <th>street_code</th>\n      <th>street_name</th>\n      <th>postal_code</th>\n      <th>weekday</th>\n      <th>year</th>\n      <th>...</th>\n      <th>Descripcio_model</th>\n      <th>Descripcio_marca</th>\n      <th>Descripcio_color</th>\n      <th>license_type</th>\n      <th>license_age</th>\n      <th>Coordenada_UTM_X_ED50</th>\n      <th>Coordenada_UTM_Y_ED50</th>\n      <th>Longitud</th>\n      <th>Latitud</th>\n      <th>descripcio_causa_mediata</th>\n    </tr>\n  </thead>\n  <tbody>\n    <tr>\n      <th>0</th>\n      <td>2022S000792</td>\n      <td>-1</td>\n      <td>Desconegut</td>\n      <td>-1</td>\n      <td>Desconegut</td>\n      <td>-1</td>\n      <td>Elisabeth Eidenbenz                           ...</td>\n      <td>8-24</td>\n      <td>Thursday</td>\n      <td>2022</td>\n      <td>...</td>\n      <td>TOYOTA PRIUS PLUS</td>\n      <td>TOYOTA</td>\n      <td>Negre/Groc</td>\n      <td>B</td>\n      <td>20</td>\n      <td>426794.73</td>\n      <td>4581925.76</td>\n      <td>2.123343</td>\n      <td>41.383684</td>\n      <td>Manca d'atenció a la conducció</td>\n    </tr>\n    <tr>\n      <th>1</th>\n      <td>2022S000792</td>\n      <td>-1</td>\n      <td>Desconegut</td>\n      <td>-1</td>\n      <td>Desconegut</td>\n      <td>-1</td>\n      <td>Elisabeth Eidenbenz                           ...</td>\n      <td>None</td>\n      <td>Thursday</td>\n      <td>2022</td>\n      <td>...</td>\n      <td>LEON ST</td>\n      <td>SEAT</td>\n      <td>Gris</td>\n      <td>B</td>\n      <td>23</td>\n      <td>426794.73</td>\n      <td>4581925.76</td>\n      <td>2.123343</td>\n      <td>41.383684</td>\n      <td>Manca d'atenció a la conducció</td>\n    </tr>\n    <tr>\n      <th>2</th>\n      <td>2022S001565</td>\n      <td>-1</td>\n      <td>Desconegut</td>\n      <td>-1</td>\n      <td>Desconegut</td>\n      <td>-1</td>\n      <td>Sant Cugat                                    ...</td>\n      <td>49-55</td>\n      <td>Thursday</td>\n      <td>2022</td>\n      <td>...</td>\n      <td>Desconegut</td>\n      <td>Desconegut</td>\n      <td>Negre</td>\n      <td>B</td>\n      <td>17</td>\n      <td>426417.43</td>\n      <td>4586500.99</td>\n      <td>2.118274</td>\n      <td>41.424856</td>\n      <td>Avançament defectuós/improcedent</td>\n    </tr>\n    <tr>\n      <th>3</th>\n      <td>2022S001565</td>\n      <td>-1</td>\n      <td>Desconegut</td>\n      <td>-1</td>\n      <td>Desconegut</td>\n      <td>-1</td>\n      <td>Sant Cugat                                    ...</td>\n      <td>None</td>\n      <td>Thursday</td>\n      <td>2022</td>\n      <td>...</td>\n      <td>Desconegut</td>\n      <td>Desconegut</td>\n      <td>Vermell</td>\n      <td>A</td>\n      <td>2</td>\n      <td>426417.43</td>\n      <td>4586500.99</td>\n      <td>2.118274</td>\n      <td>41.424856</td>\n      <td>Avançament defectuós/improcedent</td>\n    </tr>\n    <tr>\n      <th>4</th>\n      <td>2022S001568</td>\n      <td>-1</td>\n      <td>Desconegut</td>\n      <td>-1</td>\n      <td>Desconegut</td>\n      <td>-1</td>\n      <td>Pallars                                       ...</td>\n      <td>279-285</td>\n      <td>Thursday</td>\n      <td>2022</td>\n      <td>...</td>\n      <td>JET 14</td>\n      <td>SYM</td>\n      <td>Blau</td>\n      <td>B</td>\n      <td>10</td>\n      <td>433391.56</td>\n      <td>4584170.99</td>\n      <td>2.201986</td>\n      <td>41.404479</td>\n      <td>Manca precaució incorporació circulació</td>\n    </tr>\n  </tbody>\n</table>\n<p>5 rows × 27 columns</p>\n</div>"
          },
          "metadata": {}
        }
      ]
    },
    {
      "cell_type": "markdown",
      "source": "**Now I compare values , and I can see the values in both tables are equal , succefully joint and moved**\n",
      "metadata": {}
    },
    {
      "cell_type": "code",
      "source": "query = \"\"\"\n\n \n \nSELECT DISTINCT \"2022_accidents_vehicles\".case_number, min(\"2022_accidents_vehicles\".descripcio_causa_mediata) as f0, min(\"2022_accidents_cause_driver\".descripcio_causa_mediata) as f1\nFROM \"2022_accidents_vehicles\"\nJOIN \n\"2022_accidents_cause_driver\"\nON\n\"2022_accidents_vehicles\".case_number =\"2022_accidents_cause_driver\".Numero_expedient\n\nGROUP BY case_number\n \n \n\"\"\"\n\nresult = pd.read_sql_query(query, conn)\nresult.head()",
      "metadata": {
        "trusted": true
      },
      "execution_count": 53,
      "outputs": [
        {
          "execution_count": 53,
          "output_type": "execute_result",
          "data": {
            "text/plain": "       case_number                              f0  \\\n0  2022S000001      Manca d'atenció a la conducció   \n1  2022S000002       Gir indegut o sense precaució   \n2  2022S000003            Envair calçada contrària   \n3  2022S000004             No respectar distàncies   \n4  2022S000005                              Altres   \n\n                               f1  \n0  Manca d'atenció a la conducció  \n1   Gir indegut o sense precaució  \n2        Envair calçada contrària  \n3         No respectar distàncies  \n4                          Altres  ",
            "text/html": "<div>\n<style scoped>\n    .dataframe tbody tr th:only-of-type {\n        vertical-align: middle;\n    }\n\n    .dataframe tbody tr th {\n        vertical-align: top;\n    }\n\n    .dataframe thead th {\n        text-align: right;\n    }\n</style>\n<table border=\"1\" class=\"dataframe\">\n  <thead>\n    <tr style=\"text-align: right;\">\n      <th></th>\n      <th>case_number</th>\n      <th>f0</th>\n      <th>f1</th>\n    </tr>\n  </thead>\n  <tbody>\n    <tr>\n      <th>0</th>\n      <td>2022S000001</td>\n      <td>Manca d'atenció a la conducció</td>\n      <td>Manca d'atenció a la conducció</td>\n    </tr>\n    <tr>\n      <th>1</th>\n      <td>2022S000002</td>\n      <td>Gir indegut o sense precaució</td>\n      <td>Gir indegut o sense precaució</td>\n    </tr>\n    <tr>\n      <th>2</th>\n      <td>2022S000003</td>\n      <td>Envair calçada contrària</td>\n      <td>Envair calçada contrària</td>\n    </tr>\n    <tr>\n      <th>3</th>\n      <td>2022S000004</td>\n      <td>No respectar distàncies</td>\n      <td>No respectar distàncies</td>\n    </tr>\n    <tr>\n      <th>4</th>\n      <td>2022S000005</td>\n      <td>Altres</td>\n      <td>Altres</td>\n    </tr>\n  </tbody>\n</table>\n</div>"
          },
          "metadata": {}
        }
      ]
    },
    {
      "cell_type": "markdown",
      "source": "**Now I check what is possible options for the reason of the acciden**",
      "metadata": {}
    },
    {
      "cell_type": "code",
      "source": "query = \"\"\"\n\nSELECT DISTINCT descripcio_causa_mediata\nFROM \"2022_accidents_vehicles\"\n\n\"\"\"\n\nresult = pd.read_sql_query(query, conn)\nresult.head()",
      "metadata": {
        "trusted": true
      },
      "execution_count": 54,
      "outputs": [
        {
          "execution_count": 54,
          "output_type": "execute_result",
          "data": {
            "text/plain": "                  descripcio_causa_mediata\n0           Manca d'atenció a la conducció\n1         Avançament defectuós/improcedent\n2  Manca precaució incorporació circulació\n3                           No determinada\n4                  No respectar distàncies",
            "text/html": "<div>\n<style scoped>\n    .dataframe tbody tr th:only-of-type {\n        vertical-align: middle;\n    }\n\n    .dataframe tbody tr th {\n        vertical-align: top;\n    }\n\n    .dataframe thead th {\n        text-align: right;\n    }\n</style>\n<table border=\"1\" class=\"dataframe\">\n  <thead>\n    <tr style=\"text-align: right;\">\n      <th></th>\n      <th>descripcio_causa_mediata</th>\n    </tr>\n  </thead>\n  <tbody>\n    <tr>\n      <th>0</th>\n      <td>Manca d'atenció a la conducció</td>\n    </tr>\n    <tr>\n      <th>1</th>\n      <td>Avançament defectuós/improcedent</td>\n    </tr>\n    <tr>\n      <th>2</th>\n      <td>Manca precaució incorporació circulació</td>\n    </tr>\n    <tr>\n      <th>3</th>\n      <td>No determinada</td>\n    </tr>\n    <tr>\n      <th>4</th>\n      <td>No respectar distàncies</td>\n    </tr>\n  </tbody>\n</table>\n</div>"
          },
          "metadata": {}
        }
      ]
    },
    {
      "cell_type": "markdown",
      "source": "**Now I translate to English. I used formula in Excel to write the below repeated lines** ",
      "metadata": {}
    },
    {
      "cell_type": "code",
      "source": "query = \"\"\"\n\n \nUPDATE \"2022_accidents_vehicles\"\nSET `descripcio_causa_mediata` = \n    CASE \n        WHEN `descripcio_causa_mediata` = 'Altres' THEN 'others'\n        WHEN `descripcio_causa_mediata` = 'No respectar distàncies' THEN 'Not respecting distances'\n        WHEN `descripcio_causa_mediata` = \"Manca d'atenció a la conducció\" THEN 'Lack of attention to driving'\n        WHEN `descripcio_causa_mediata` = 'Gir indegut o sense precaució' THEN 'Improper or careless turn'\n        WHEN `descripcio_causa_mediata` = 'Manca precaució efectuar marxa enrera' THEN 'Lack of caution in reversing'\n        WHEN `descripcio_causa_mediata` = 'No respectat pas de vianants' THEN 'Pedestrian crossing not respected'\n        WHEN `descripcio_causa_mediata` = 'Avançament defectuós/improcedent' THEN 'Defective/improper advance'\n        WHEN `descripcio_causa_mediata` = 'Desconegut' THEN 'unknown'\n        WHEN `descripcio_causa_mediata` = 'Desobeir altres senyals' THEN 'Disobey other signals'\n        WHEN `descripcio_causa_mediata` = 'Manca precaució incorporació circulació' THEN 'Lack of caution incorporating circulation'\n        WHEN `descripcio_causa_mediata` = 'Canvi de carril sense precaució' THEN 'Lane change without caution'\n        WHEN `descripcio_causa_mediata` = 'No determinada' THEN 'not determined'\n        WHEN `descripcio_causa_mediata` = 'Desobeir semàfor' THEN 'Disobey traffic lights'\n        WHEN `descripcio_causa_mediata` = 'No cedir la dreta' THEN 'Do not yield the right'\n        WHEN `descripcio_causa_mediata` = 'Fallada mecànica o avaria' THEN 'Mechanical failure or breakdown'\n        WHEN `descripcio_causa_mediata` = 'Envair calçada contrària' THEN 'Invade opposite roadway'\n               ELSE `descripcio_causa_mediata`\n    END\n  WHERE descripcio_causa_mediata IS NOT NULL;\n \n \n \n\"\"\"\n\ncursor = conn.cursor()\ncursor.execute(query)\nconn.commit()\n",
      "metadata": {
        "trusted": true
      },
      "execution_count": 55,
      "outputs": []
    },
    {
      "cell_type": "markdown",
      "source": "**now I validate that description is properly updated**",
      "metadata": {}
    },
    {
      "cell_type": "code",
      "source": "query = \"\"\"\n\nSELECT DISTINCT descripcio_causa_mediata\nFROM \"2022_accidents_vehicles\" \n \n\"\"\"\n\nresult = pd.read_sql_query(query, conn)\nresult.head()",
      "metadata": {
        "trusted": true
      },
      "execution_count": 56,
      "outputs": [
        {
          "execution_count": 56,
          "output_type": "execute_result",
          "data": {
            "text/plain": "                    descripcio_causa_mediata\n0               Lack of attention to driving\n1                 Defective/improper advance\n2  Lack of caution incorporating circulation\n3                             not determined\n4                   Not respecting distances",
            "text/html": "<div>\n<style scoped>\n    .dataframe tbody tr th:only-of-type {\n        vertical-align: middle;\n    }\n\n    .dataframe tbody tr th {\n        vertical-align: top;\n    }\n\n    .dataframe thead th {\n        text-align: right;\n    }\n</style>\n<table border=\"1\" class=\"dataframe\">\n  <thead>\n    <tr style=\"text-align: right;\">\n      <th></th>\n      <th>descripcio_causa_mediata</th>\n    </tr>\n  </thead>\n  <tbody>\n    <tr>\n      <th>0</th>\n      <td>Lack of attention to driving</td>\n    </tr>\n    <tr>\n      <th>1</th>\n      <td>Defective/improper advance</td>\n    </tr>\n    <tr>\n      <th>2</th>\n      <td>Lack of caution incorporating circulation</td>\n    </tr>\n    <tr>\n      <th>3</th>\n      <td>not determined</td>\n    </tr>\n    <tr>\n      <th>4</th>\n      <td>Not respecting distances</td>\n    </tr>\n  </tbody>\n</table>\n</div>"
          },
          "metadata": {}
        }
      ]
    },
    {
      "cell_type": "code",
      "source": "query = \"\"\"\n\nSELECT *\nFROM \"2022_accidents_vehicles\" \nORDER BY district_name\n\"\"\"\n\nresult = pd.read_sql_query(query, conn)\nresult.head()",
      "metadata": {
        "trusted": true
      },
      "execution_count": 58,
      "outputs": [
        {
          "execution_count": 58,
          "output_type": "execute_result",
          "data": {
            "text/plain": "       case_number  district_code district_name  neighborhood_code  \\\n0  2022S005521                  1  Ciutat Vella                  1   \n1  2022S005521                  1  Ciutat Vella                  1   \n2  2022S002486                  1  Ciutat Vella                  1   \n3  2022S004872                  1  Ciutat Vella                  1   \n4  2022S001411                  1  Ciutat Vella                  1   \n\n  neighborhood_name  street_code  \\\n0          el Raval        16408   \n1          el Raval        16408   \n2          el Raval        21306   \n3          el Raval        21306   \n4          el Raval        34308   \n\n                                         street_name postal_code   weekday  \\\n0  Àngels                                        ...  0008B0008B  Thursday   \n1  Àngels                                        ...  0008B0008B  Thursday   \n2  Montserrat                                    ...   0017 0017  Thursday   \n3  Dolors Aleu                                   ...   0041 0041  Thursday   \n4  Rambla                                        ...   0015 0015   Tuesday   \n\n   year  ...   Descripcio_model Descripcio_marca  Descripcio_color  \\\n0  2022  ...            SES 125            HONDA              Gris   \n1  2022  ...             SH 300            HONDA             Blanc   \n2  2022  ...               1318    MERCEDES-BENZ        Desconegut   \n3  2022  ...  TOYOTA PRIUS PLUS           TOYOTA            Altres   \n4  2022  ...       PEOPLE S 125            KYMCO              Gris   \n\n   license_type license_age Coordenada_UTM_X_ED50 Coordenada_UTM_Y_ED50  \\\n0            A1           3             430558.97            4581731.11   \n1             B  Desconegut             430558.97            4581731.11   \n2            C1          18             431077.50            4581193.61   \n3             B          36             431001.45            4581060.98   \n4             B           7             431170.58            4581218.55   \n\n   Longitud    Latitud      descripcio_causa_mediata  \n0  2.168381  41.382264                        others  \n1  2.168381  41.382264                        others  \n2  2.174643  41.377468                       unknown  \n3  2.173749  41.376267  Lack of attention to driving  \n4  2.175753  41.377701  Lack of attention to driving  \n\n[5 rows x 27 columns]",
            "text/html": "<div>\n<style scoped>\n    .dataframe tbody tr th:only-of-type {\n        vertical-align: middle;\n    }\n\n    .dataframe tbody tr th {\n        vertical-align: top;\n    }\n\n    .dataframe thead th {\n        text-align: right;\n    }\n</style>\n<table border=\"1\" class=\"dataframe\">\n  <thead>\n    <tr style=\"text-align: right;\">\n      <th></th>\n      <th>case_number</th>\n      <th>district_code</th>\n      <th>district_name</th>\n      <th>neighborhood_code</th>\n      <th>neighborhood_name</th>\n      <th>street_code</th>\n      <th>street_name</th>\n      <th>postal_code</th>\n      <th>weekday</th>\n      <th>year</th>\n      <th>...</th>\n      <th>Descripcio_model</th>\n      <th>Descripcio_marca</th>\n      <th>Descripcio_color</th>\n      <th>license_type</th>\n      <th>license_age</th>\n      <th>Coordenada_UTM_X_ED50</th>\n      <th>Coordenada_UTM_Y_ED50</th>\n      <th>Longitud</th>\n      <th>Latitud</th>\n      <th>descripcio_causa_mediata</th>\n    </tr>\n  </thead>\n  <tbody>\n    <tr>\n      <th>0</th>\n      <td>2022S005521</td>\n      <td>1</td>\n      <td>Ciutat Vella</td>\n      <td>1</td>\n      <td>el Raval</td>\n      <td>16408</td>\n      <td>Àngels                                        ...</td>\n      <td>0008B0008B</td>\n      <td>Thursday</td>\n      <td>2022</td>\n      <td>...</td>\n      <td>SES 125</td>\n      <td>HONDA</td>\n      <td>Gris</td>\n      <td>A1</td>\n      <td>3</td>\n      <td>430558.97</td>\n      <td>4581731.11</td>\n      <td>2.168381</td>\n      <td>41.382264</td>\n      <td>others</td>\n    </tr>\n    <tr>\n      <th>1</th>\n      <td>2022S005521</td>\n      <td>1</td>\n      <td>Ciutat Vella</td>\n      <td>1</td>\n      <td>el Raval</td>\n      <td>16408</td>\n      <td>Àngels                                        ...</td>\n      <td>0008B0008B</td>\n      <td>Thursday</td>\n      <td>2022</td>\n      <td>...</td>\n      <td>SH 300</td>\n      <td>HONDA</td>\n      <td>Blanc</td>\n      <td>B</td>\n      <td>Desconegut</td>\n      <td>430558.97</td>\n      <td>4581731.11</td>\n      <td>2.168381</td>\n      <td>41.382264</td>\n      <td>others</td>\n    </tr>\n    <tr>\n      <th>2</th>\n      <td>2022S002486</td>\n      <td>1</td>\n      <td>Ciutat Vella</td>\n      <td>1</td>\n      <td>el Raval</td>\n      <td>21306</td>\n      <td>Montserrat                                    ...</td>\n      <td>0017 0017</td>\n      <td>Thursday</td>\n      <td>2022</td>\n      <td>...</td>\n      <td>1318</td>\n      <td>MERCEDES-BENZ</td>\n      <td>Desconegut</td>\n      <td>C1</td>\n      <td>18</td>\n      <td>431077.50</td>\n      <td>4581193.61</td>\n      <td>2.174643</td>\n      <td>41.377468</td>\n      <td>unknown</td>\n    </tr>\n    <tr>\n      <th>3</th>\n      <td>2022S004872</td>\n      <td>1</td>\n      <td>Ciutat Vella</td>\n      <td>1</td>\n      <td>el Raval</td>\n      <td>21306</td>\n      <td>Dolors Aleu                                   ...</td>\n      <td>0041 0041</td>\n      <td>Thursday</td>\n      <td>2022</td>\n      <td>...</td>\n      <td>TOYOTA PRIUS PLUS</td>\n      <td>TOYOTA</td>\n      <td>Altres</td>\n      <td>B</td>\n      <td>36</td>\n      <td>431001.45</td>\n      <td>4581060.98</td>\n      <td>2.173749</td>\n      <td>41.376267</td>\n      <td>Lack of attention to driving</td>\n    </tr>\n    <tr>\n      <th>4</th>\n      <td>2022S001411</td>\n      <td>1</td>\n      <td>Ciutat Vella</td>\n      <td>1</td>\n      <td>el Raval</td>\n      <td>34308</td>\n      <td>Rambla                                        ...</td>\n      <td>0015 0015</td>\n      <td>Tuesday</td>\n      <td>2022</td>\n      <td>...</td>\n      <td>PEOPLE S 125</td>\n      <td>KYMCO</td>\n      <td>Gris</td>\n      <td>B</td>\n      <td>7</td>\n      <td>431170.58</td>\n      <td>4581218.55</td>\n      <td>2.175753</td>\n      <td>41.377701</td>\n      <td>Lack of attention to driving</td>\n    </tr>\n  </tbody>\n</table>\n<p>5 rows × 27 columns</p>\n</div>"
          },
          "metadata": {}
        }
      ]
    },
    {
      "cell_type": "markdown",
      "source": "**Data Clearning, Validation and Manipulation is completed, now I am connecting output file to Tableau for Viz**",
      "metadata": {}
    },
    {
      "cell_type": "code",
      "source": "",
      "metadata": {},
      "execution_count": null,
      "outputs": []
    }
  ]
}